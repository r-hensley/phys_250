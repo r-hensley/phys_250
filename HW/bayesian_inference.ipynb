{
 "cells": [
  {
   "cell_type": "markdown",
   "source": [
    "In this exercise you will implement a method for inferring the posterior probability density of the variance of thedistribution from which a set of samples were drawn. You will use Bayes' theorem to derive a posterior probabilitydistribution for this variance. You will then proceed, in a rather gratuitous application of the Metropolis-Hastingalgorithm, to sample from this posterior density to form a Markov chain. We then use the Markov chain to estimatethe posterior density. I call this application 'rather gratuitous' because we already know the posterior densityand can plot it and do anything we want with it. The utility of generating a Markov chain will become more evidentin the group project.\n",
    "\n",
    "1) Assume a Gaussian random number generator with zero mean and variance a is producing samples, x,  with posterior density P(x|a) = N(a) e^{-x^2/(2a)}. Analytically find N(a) so that P(x|a) is appropriately normalized.\n",
    "\n",
    "3) Use Bayes’s theorem to calculate P(a|{x}) when one has multiple samples drawn;  {x} =  (x_1, x_2, x_3, ... x_n).\n",
    "\n",
    "4) Draw 100 samples and plot the resulting P(a|{x}).\n",
    "\n",
    "5) Use the Metropolis Hastings algorithm to sample from this posterior and create a Markov chain.\n",
    "\n",
    "6) Plot a \"trace plot\" which is sample number vs. parameter value.\n",
    "\n",
    "7) Plot a histogram of the chain with variance a as the x axis and compare with P(a|x). Indicate in your graph the true value of the variance.\n",
    "\n",
    "Develop in the VS Code IDE under version control on your own GitHub repo. Submit a link to the GitHub repo.\n",
    "\n",
    "\n",
    "\n",
    "NOTE:\n",
    "\n",
    "1) In (3), simply adopt a uniform prior, which means P(a) is independent of a.\n",
    "\n",
    "2) In (3), you only need to calculate an un-normalized P(a|x); i.e., don't concern yourself with factors that have\n",
    "no dependence on a. If you do want to normalize P(a|x) you can do so by making sure that \\int da P(a|x)=1 -- but\n",
    "you don't have to."
   ],
   "metadata": {
    "collapsed": false,
    "pycharm": {
     "name": "#%% md\n"
    }
   }
  },
  {
   "cell_type": "code",
   "execution_count": 1,
   "metadata": {
    "pycharm": {
     "name": "#%%\n"
    }
   },
   "outputs": [],
   "source": [
    "import numpy as np\n",
    "import scipy.integrate as integrate"
   ]
  },
  {
   "cell_type": "markdown",
   "source": [
    "Define width and mean of Gaussian"
   ],
   "metadata": {
    "collapsed": false,
    "pycharm": {
     "name": "#%% md\n"
    }
   }
  },
  {
   "cell_type": "code",
   "execution_count": 2,
   "metadata": {
    "pycharm": {
     "name": "#%%\n"
    }
   },
   "outputs": [],
   "source": [
    "width = 1\n",
    "mean = 0"
   ]
  },
  {
   "cell_type": "markdown",
   "metadata": {
    "pycharm": {
     "name": "#%% md\n"
    }
   },
   "source": [
    "Define the gaussian with normalization, it should equal 1 when integrated over all x"
   ]
  },
  {
   "cell_type": "code",
   "execution_count": 3,
   "metadata": {
    "pycharm": {
     "name": "#%%\n"
    }
   },
   "outputs": [],
   "source": [
    "def gaussian(x):\n",
    "    return 1 / (np.sqrt(2 * np.pi) * width) * np.exp(-(x - mean) ** 2 / (2 * width))"
   ]
  },
  {
   "cell_type": "markdown",
   "metadata": {
    "pycharm": {
     "name": "#%% md\n"
    }
   },
   "source": [
    "Integrate using scipy"
   ]
  },
  {
   "cell_type": "code",
   "execution_count": 4,
   "metadata": {
    "pycharm": {
     "name": "#%%\n"
    }
   },
   "outputs": [
    {
     "name": "stdout",
     "output_type": "stream",
     "text": [
      "(0.9999999999999997, 1.017819145094224e-08)\n"
     ]
    }
   ],
   "source": [
    "print(integrate.quad(gaussian, -np.inf, np.inf))"
   ]
  },
  {
   "cell_type": "markdown",
   "source": [
    "When you have multiple samples, the probability function becomes\n",
    "\n",
    "$ P(x_1, ..., x_n|\\sigma) = \\prod^{\\infty}_{i=1} P(x_i|\\sigma)=N^n(\\sigma) e^{-\\sum_i (x_i-\\mu)^2/(2 \\sigma^2)}$"
   ],
   "metadata": {
    "collapsed": false,
    "pycharm": {
     "name": "#%% md\n"
    }
   }
  },
  {
   "cell_type": "code",
   "execution_count": 14,
   "outputs": [
    {
     "name": "stdout",
     "output_type": "stream",
     "text": [
      "Sample of data: [-0.38520531  0.37420916 -1.70870709 -0.58681869  0.17578328]\n",
      "sigma_range[:5]=array([0.01, 0.02, 0.03, 0.04, 0.05])\n",
      "prior[:5]=array([0.002, 0.002, 0.002, 0.002, 0.002])\n",
      "normalization[:5]=array([39.89422804, 19.94711402, 13.29807601,  9.97355701,  7.97884561])\n",
      "n_normalization[:5]=array([1.23312352e+160, 9.72762938e+129, 2.39266067e+112, 7.67374652e+099,\n",
      "       1.56316977e+090])\n",
      "sum_of_squared_data=98.29057901871542\n",
      "exponential[:5]=array([0., 0., 0., 0., 0.])\n",
      "likelihood[:5]=array([0., 0., 0., 0., 0.])\n"
     ]
    }
   ],
   "source": [
    "# Make one hundred samples for x\n",
    "data = np.random.normal(0, 1, 100)\n",
    "print(f\"Sample of data: {data[:5]}\")\n",
    "\n",
    "# Generate range of possible widths sigmas\n",
    "sigma_range: np.ndarray = np.linspace(0.01, 5, 500)\n",
    "# prior distribution P(sigma)\n",
    "prior = np.ones(500)/500\n",
    "print(f\"{sigma_range[:5]=}\")\n",
    "print(f\"{prior[:5]=}\")\n",
    "\n",
    "# For one Gaussian, the distribution of normalizations for sigmas is...\n",
    "normalization: np.ndarray = 1/(np.sqrt(2*np.pi)*sigma_range)\n",
    "print(f\"{normalization[:5]=}\")\n",
    "\n",
    "# For one hundred points, do N(sigma)^n\n",
    "n_normalization: np.ndarray = normalization ** 100\n",
    "print(f\"{n_normalization[:5]=}\")\n",
    "\n",
    "# The exponent has a sum over the squares of all the data\n",
    "squared_data = [(i - mean)**2 for i in data]\n",
    "sum_of_squared_data: int = sum(squared_data)\n",
    "print(f\"{sum_of_squared_data=}\")\n",
    "\n",
    "# Distribution of final value of exponential for all values of sigma\n",
    "exponential: np.ndarray = np.exp(-sum_of_squared_data / (2*sigma_range**2))\n",
    "print(f\"{exponential[:5]=}\")\n",
    "\n",
    "# Multiply times normalization\n",
    "likelihood: np.ndarray = n_normalization * exponential\n",
    "print(f\"{likelihood[:5]=}\")"
   ],
   "metadata": {
    "collapsed": false,
    "pycharm": {
     "name": "#%%\n"
    }
   }
  },
  {
   "cell_type": "code",
   "execution_count": 15,
   "outputs": [
    {
     "data": {
      "text/plain": "<Figure size 432x288 with 1 Axes>",
      "image/png": "[encoded data removed]"
     },
     "metadata": {
      "needs_background": "light"
     },
     "output_type": "display_data"
    }
   ],
   "source": [
    "from matplotlib import pyplot as plt\n",
    "\n",
    "# Create the plot\n",
    "fig1, ax1 = plt.subplots()\n",
    "ax1.plot(sigma_range, likelihood, linewidth=3, color='yellowgreen')\n",
    "\n",
    "# Add a title\n",
    "ax1.set_title('[Likelihood] P(x_n | σ)' , fontsize=20)\n",
    "\n",
    "# Add X and y Label\n",
    "ax1.set_xlabel(\"σ\", fontsize=16)\n",
    "ax1.set_ylabel(\"Probability\", fontsize=16)\n",
    "\n",
    "# Add a grid\n",
    "plt.grid(alpha=.4, linestyle='--')\n",
    "\n",
    "# Show the plot\n",
    "plt.show()\n",
    "# Centered at 0.3"
   ],
   "metadata": {
    "collapsed": false,
    "pycharm": {
     "name": "#%%\n"
    }
   }
  },
  {
   "cell_type": "code",
   "execution_count": 19,
   "outputs": [
    {
     "name": "stdout",
     "output_type": "stream",
     "text": [
      "second_normalization=1.9977980950930246e-63\n",
      "Max bin: 98\n",
      "Max posterior probability: 1.1262349460618086e-64\n",
      "Sigma value at max bin: 0.99\n"
     ]
    }
   ],
   "source": [
    "def create_posterior(_likelihood, _prior):\n",
    "    posterior = _likelihood * _prior # element-wise multiplication\n",
    "    second_normalization = np.sum(posterior)\n",
    "    print(f\"{second_normalization=}\")\n",
    "    normalized_posterior = posterior / np.sum(posterior)\n",
    "\n",
    "    max_bin = np.argmax(posterior)\n",
    "    print(f\"Max bin: {max_bin}\\nMax posterior probability: {posterior[max_bin]}\\n\"\n",
    "          f\"Sigma value at max bin: {sigma_range[max_bin]}\")\n",
    "    return posterior\n",
    "posterior = create_posterior(likelihood, prior)"
   ],
   "metadata": {
    "collapsed": false,
    "pycharm": {
     "name": "#%%\n"
    }
   }
  },
  {
   "cell_type": "code",
   "execution_count": 20,
   "outputs": [
    {
     "data": {
      "text/plain": "<Figure size 1440x504 with 3 Axes>",
      "image/png": "[encoded data removed]"
     },
     "metadata": {
      "needs_background": "light"
     },
     "output_type": "display_data"
    }
   ],
   "source": [
    "def plot_together(_posterior, _likelihood, _prior):\n",
    "    # Plotting all three together\n",
    "    fig, axes = plt.subplots(3, 1, sharex=True, figsize=(20,7))\n",
    "    plt.xlabel('θ', fontsize=24)\n",
    "\n",
    "    axes[0].plot(sigma_range, _prior, label=\"Prior\", linewidth=3, color='palegreen')\n",
    "    axes[0].set_title(\"Prior\", fontsize=16)\n",
    "\n",
    "    axes[1].plot(sigma_range, _likelihood, label=\"Likelihood\", linewidth=3, color='yellowgreen')\n",
    "    axes[1].set_title(\"Sampling (Likelihood)\", fontsize=16)\n",
    "\n",
    "    axes[2].plot(sigma_range, _posterior, label='Posterior', linewidth=3, color='olivedrab')\n",
    "    axes[2].set_title(\"Posterior\", fontsize=16)\n",
    "    plt.show()\n",
    "\n",
    "plot_together(posterior, likelihood, prior)"
   ],
   "metadata": {
    "collapsed": false,
    "pycharm": {
     "name": "#%%\n"
    }
   }
  },
  {
   "cell_type": "code",
   "execution_count": null,
   "outputs": [],
   "source": [],
   "metadata": {
    "collapsed": false,
    "pycharm": {
     "name": "#%%\n"
    }
   }
  }
 ],
 "metadata": {
  "kernelspec": {
   "name": "rai",
   "language": "python",
   "display_name": "Rai"
  },
  "language_info": {
   "codemirror_mode": {
    "name": "ipython",
    "version": 3
   },
   "file_extension": ".py",
   "mimetype": "text/x-python",
   "name": "python",
   "nbconvert_exporter": "python",
   "pygments_lexer": "ipython3",
   "version": "3.8.10"
  }
 },
 "nbformat": 4,
 "nbformat_minor": 1
}