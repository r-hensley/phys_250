{
 "cells": [
  {
   "cell_type": "code",
   "execution_count": 30,
   "outputs": [],
   "source": [
    "import numpy\n",
    "from matplotlib import pyplot as plt\n",
    "import logging\n",
    "%matplotlib inline"
   ],
   "metadata": {
    "collapsed": false,
    "pycharm": {
     "name": "#%%\n"
    }
   }
  },
  {
   "cell_type": "markdown",
   "source": [
    "Write a code to generate and display a cellular automaton with two changes from the binary CA case:\n",
    "\n",
    "1) replace the 2-state system with a 3-state system. Thus a cell, instead of being either 0 or 1, can be 0, 1, or 2.\n",
    "\n",
    "2) define the neighborhood as the cell above and to the left, rather than above, to the left, and to the right. This is so that there are 3^9 = 19683 possible input configurations instead of 3^(3^3) which is greater than 10^{12}. (By 'neighborhood' here we mean the set of cells that, together with a rule, determine a cell's value. In the 2-state example we did in class, the neighborhood for a given cell was the cell above and its nearest neighbors.)\n",
    "\n",
    "Do two versions: one without use of functions and classes, and one with use of functions and at least one class. See if you can reuse some of Adam Rupe's 2-state CA code. Upload your solutions as a single Jupyter Notebook."
   ],
   "metadata": {
    "collapsed": false
   }
  },
  {
   "cell_type": "code",
   "execution_count": 31,
   "outputs": [],
   "source": [
    "def numberToBase(n: int, b: int) -> list[int]:\n",
    "    \"\"\"\n",
    "    Source: https://stackoverflow.com/a/28666223\n",
    "    Converts any number to a list of integers corresponding to different digits.\n",
    "    For example, 15 in decimal would be returned as [1, 5].\n",
    "    5 in binary would be returned as [1, 0, 1]\n",
    "    :param n: Input number\n",
    "    :param b: Base to convert input number n\n",
    "    :return: List of digits\n",
    "    \"\"\"\n",
    "    if n == 0:\n",
    "        return [0]\n",
    "    digits = []\n",
    "    while n:\n",
    "        digits.append(int(n % b))\n",
    "        n //= b\n",
    "    return digits[::-1]"
   ],
   "metadata": {
    "collapsed": false,
    "pycharm": {
     "name": "#%%\n"
    }
   }
  },
  {
   "cell_type": "code",
   "execution_count": 32,
   "outputs": [],
   "source": [
    "def generate_neighborhoods(neighborhood_members: int, num_states: int) -> list[tuple]:\n",
    "    \"\"\"\n",
    "    Generates a list of tuples corresponding to possible neighborhoods\n",
    "    :param neighborhood_members: Number of elements in each neighborhood. For example, left, above, and right is neighborhood_members=3.\n",
    "    :param num_states: Number of possible values for each element in a neighborhood. For example, a binary system with 0 and 1 is num_states=2.\n",
    "    :return: List of tuples. For example, [(0,0,0), (0,0,1), ...]\n",
    "    \"\"\"\n",
    "    neighborhoods: list[tuple] = []\n",
    "\n",
    "    # loop until the length of neighborhoods exceed neighborhood_members\n",
    "    decimal_number = 0\n",
    "    while True:\n",
    "        number_list: list[int] = numberToBase(decimal_number, num_states)  # gives list of digits like [1,0,1]\n",
    "        number_string: str = ''.join([str(i) for i in number_list]).zfill(neighborhood_members)  # should be a string with length=neighborhood_members like 0101\n",
    "        if len(number_string) > neighborhood_members:\n",
    "            break\n",
    "        to_append = tuple((int(char) for char in number_string))\n",
    "        neighborhoods.append(to_append)\n",
    "        logging.info(number_list, number_string, to_append)\n",
    "        decimal_number += 1\n",
    "    return neighborhoods\n"
   ],
   "metadata": {
    "collapsed": false,
    "pycharm": {
     "name": "#%%\n"
    }
   }
  },
  {
   "cell_type": "markdown",
   "source": [
    "# Main function with most of code"
   ],
   "metadata": {
    "collapsed": false,
    "pycharm": {
     "name": "#%% md\n"
    }
   }
  },
  {
   "cell_type": "code",
   "execution_count": 33,
   "outputs": [],
   "source": [
    "def main(rule_number: int, length: int, time: int, neighborhood_members: int, num_states: int):\n",
    "    assert 0 <= rule_number <= 255, \"Please choose a value for rule_number between 0 and 255\"\n",
    "    assert length > 0, \"Please choose a value for length greater than 0\"\n",
    "    assert time > 0, \"Please choose a value for time greater than 0\"\n",
    "\n",
    "# make the initial condition\n",
    "initial_condition: list[int] = []\n",
    "for i in range(length):\n",
    "    initial_condition.append(random.randint(0,1))\n",
    "\n",
    "# gives list of tuples like [(0,0,0), (0,0,1), ...]\n",
    "neighborhoods: list[tuple] = generate_neighborhoods(neighborhood_members, num_states)"
   ],
   "metadata": {
    "collapsed": false,
    "pycharm": {
     "name": "#%%\n"
    }
   }
  },
  {
   "cell_type": "markdown",
   "source": [
    "#\n",
    "#\n",
    "# **Tests**"
   ],
   "metadata": {
    "collapsed": false,
    "pycharm": {
     "name": "#%% md\n"
    }
   }
  },
  {
   "cell_type": "code",
   "execution_count": 34,
   "outputs": [],
   "source": [
    "def numberToBase_test() -> list[int]:\n",
    "    assert numberToBase(15, 10) == [1, 5]\n",
    "    assert numberToBase(5, 2) == [1, 0, 1]\n",
    "    assert numberToBase(27, 6) == [4, 3]\n",
    "    print(\"numberToBase_test passed\")"
   ],
   "metadata": {
    "collapsed": false,
    "pycharm": {
     "name": "#%%\n"
    }
   }
  },
  {
   "cell_type": "code",
   "execution_count": 35,
   "outputs": [
    {
     "name": "stdout",
     "output_type": "stream",
     "text": [
      "numberToBase_test passed\n"
     ]
    }
   ],
   "source": [
    "numberToBase_test()"
   ],
   "metadata": {
    "collapsed": false,
    "pycharm": {
     "name": "#%%\n"
    }
   }
  },
  {
   "cell_type": "code",
   "execution_count": 36,
   "outputs": [],
   "source": [
    "def generate_neighborhoods_tests()-> list[tuple]:\n",
    "    assert type(generate_neighborhoods(3, 2)) == list, \"function generate_neighborhood() is not returning lists\"\n",
    "    try:\n",
    "        assert type(generate_neighborhoods(3, 2)[0]) == tuple, \"the elements of function generate_neighborhood() are not all tuples\"\n",
    "    except IndexError:\n",
    "        raise IndexError(\"The list returned from function generate_neighborhoods() is empty\")\n",
    "    assert generate_neighborhoods(3, 2) == [(0,0,0), (0,0,1), (0,1,0), (0,1,1), (1,0,0), (1,0,1), (1,1,0), (1,1,1)], \"The tuples generated by function generate_neighborhoods(3, 2) is not correct\"\n",
    "    assert generate_neighborhoods(4, 2) == [(0,0,0,0), (0,0,0,1), (0,0,1,0), (0,0,1,1), (0,1,0,0), (0,1,0,1), (0,1,1,0), (0,1,1,1), (1,0,0,0), (1,0,0,1), (1,0,1,0), (1,0,1,1), (1,1,0,0), (1,1,0,1), (1,1,1,0), (1,1,1,1)], \"The tuples generated by function generate_neighborhoods(4, 2) is not correct\"\n",
    "    assert generate_neighborhoods(2, 3) == [(0,0), (0,1), (0,2), (1,0), (1,1), (1,2), (2,0), (2,1), (2,2)], \"The tuples generated by function generate_neighborhoods(2, 3) is not correct\"\n",
    "    print(\"generate_neighborhoods_tests passed\")"
   ],
   "metadata": {
    "collapsed": false,
    "pycharm": {
     "name": "#%%\n"
    }
   }
  },
  {
   "cell_type": "code",
   "execution_count": 37,
   "outputs": [
    {
     "name": "stdout",
     "output_type": "stream",
     "text": [
      "generate_neighborhoods_tests passed\n"
     ]
    }
   ],
   "source": [
    "generate_neighborhoods_tests()"
   ],
   "metadata": {
    "collapsed": false,
    "pycharm": {
     "name": "#%%\n"
    }
   }
  }
 ],
 "metadata": {
  "kernelspec": {
   "display_name": "Python 3",
   "language": "python",
   "name": "python3"
  },
  "language_info": {
   "codemirror_mode": {
    "name": "ipython",
    "version": 2
   },
   "file_extension": ".py",
   "mimetype": "text/x-python",
   "name": "python",
   "nbconvert_exporter": "python",
   "pygments_lexer": "ipython2",
   "version": "2.7.6"
  }
 },
 "nbformat": 4,
 "nbformat_minor": 0
}