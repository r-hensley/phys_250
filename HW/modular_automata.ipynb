{
 "cells": [
  {
   "cell_type": "code",
   "execution_count": 22,
   "outputs": [],
   "source": [
    "from matplotlib import pyplot as plt\n",
    "import logging\n",
    "import random\n",
    "from typing import List, Tuple\n",
    "%matplotlib inline"
   ],
   "metadata": {
    "collapsed": false,
    "pycharm": {
     "name": "#%%\n"
    }
   }
  },
  {
   "cell_type": "markdown",
   "source": [
    "Write a code to generate and display a cellular automaton with two changes from the binary CA case:\n",
    "\n",
    "1) replace the 2-state system with a 3-state system. Thus a cell, instead of being either 0 or 1, can be 0, 1, or 2.\n",
    "\n",
    "2) define the neighborhood as the cell above and to the left, rather than above, to the left, and to the right. This is so that there are `3^9` = 19683 possible input configurations instead of `3^(3^3)` which is greater than 10^{12}. (By 'neighborhood' here we mean the set of cells that, together with a rule, determine a cell's value. In the 2-state example we did in class, the neighborhood for a given cell was the cell above and its nearest neighbors.)\n",
    "\n",
    "Do two versions: one without use of functions and classes, and one with use of functions and at least one class. See if you can reuse some of Adam Rupe's 2-state CA code. Upload your solutions as a single Jupyter Notebook."
   ],
   "metadata": {
    "collapsed": false
   }
  },
  {
   "cell_type": "code",
   "execution_count": 23,
   "outputs": [],
   "source": [
    "def number_to_base(n: int, b: int) -> List[int]:\n",
    "    \"\"\"\n",
    "    Source: https://stackoverflow.com/a/28666223\n",
    "    Converts any number to a list of integers corresponding to different digits.\n",
    "    For example, 15 in decimal would be returned as [1, 5].\n",
    "    5 in binary would be returned as [1, 0, 1]\n",
    "    number_to_base(6, 2) --> [1, 1, 0]\n",
    "    :param n: Input number\n",
    "    :param b: Base to convert input number n\n",
    "    :return: List of digits in order of most to least significant bits\n",
    "    \"\"\"\n",
    "    if n == 0:\n",
    "        return [0]\n",
    "    digits = []\n",
    "    while n:\n",
    "        digits.append(int(n % b))\n",
    "        n //= b\n",
    "    return digits[::-1]"
   ],
   "metadata": {
    "collapsed": false,
    "pycharm": {
     "name": "#%%\n"
    }
   }
  },
  {
   "cell_type": "code",
   "execution_count": 24,
   "outputs": [],
   "source": [
    "def generate_neighborhoods(neighborhood_members: int, num_states: int) -> List[Tuple]:\n",
    "    \"\"\"\n",
    "    Generates a list of tuples corresponding to possible neighborhoods\n",
    "    :param neighborhood_members: Number of elements in each neighborhood. For example, left, above, and right is neighborhood_members=3.\n",
    "    :param num_states: Number of possible values for each element in a neighborhood. For example, a binary system with 0 and 1 is num_states=2.\n",
    "    :return: List of tuples. For example, [(0,0,0), (0,0,1), ...]\n",
    "    \"\"\"\n",
    "    neighborhoods: list[tuple] = []\n",
    "\n",
    "    # loop until the length of neighborhoods exceed neighborhood_members\n",
    "    decimal_number = 0\n",
    "    while True:\n",
    "        number_list: list[int] = number_to_base(decimal_number, num_states)  # gives list of digits like [1,0,1]\n",
    "        number_string: str = ''.join([str(i) for i in number_list]).zfill(neighborhood_members)  # should be a string with length=neighborhood_members like 0101\n",
    "        if len(number_string) > neighborhood_members:\n",
    "            break\n",
    "        to_append = tuple((int(char) for char in number_string))\n",
    "        neighborhoods.append(to_append)\n",
    "        logging.info(number_list, number_string, to_append)\n",
    "        decimal_number += 1\n",
    "    return neighborhoods\n"
   ],
   "metadata": {
    "collapsed": false,
    "pycharm": {
     "name": "#%%\n"
    }
   }
  },
  {
   "cell_type": "code",
   "execution_count": 25,
   "outputs": [],
   "source": [
    "def get_max_rule(neighborhood_members: int, num_states: int) -> int:\n",
    "    \"\"\"\n",
    "    Given a neighborhood number and number of possible per states, return max rule number\n",
    "    :param neighborhood_members: Number of elements in each neighborhood. For example, left, above, and right is neighborhood_members=3.\n",
    "    :param num_states: Number of possible values for each element in a neighborhood. For example, a binary system with 0 and 1 is num_states=2.\n",
    "    :return: Integer corresponding to maximum rule number\n",
    "    \"\"\"\n",
    "    # For example, if there's eight possible neighborhoods in a two-state system\n",
    "    # then the max rule is 1111,1111\n",
    "    num_of_digits = len(generate_neighborhoods(neighborhood_members, num_states))\n",
    "    max_state = str(num_states - 1)  # for example, 1 in a two-state system\n",
    "    max_rule = int(max_state*num_of_digits, num_states)\n",
    "    return max_rule"
   ],
   "metadata": {
    "collapsed": false,
    "pycharm": {
     "name": "#%%\n"
    }
   }
  },
  {
   "cell_type": "code",
   "execution_count": 26,
   "outputs": [],
   "source": [
    "def get_starting_state(length: int, base: int) -> List[int]:\n",
    "    \"\"\"\n",
    "    Returns a list of random integers of specified length and base\n",
    "    :param length: Length of string\n",
    "    :param base: Base of numbers in strings. For example, base=2 would return a string with only 0 and 1\n",
    "    :return: String of\n",
    "    \"\"\"\n",
    "    if not isinstance(length, int) or length <= 0:\n",
    "        raise ValueError(\"input length must be a positive integer\")\n",
    "    return [random.randint(0,base-1) for _ in range(length)]"
   ],
   "metadata": {
    "collapsed": false,
    "pycharm": {
     "name": "#%%\n"
    }
   }
  },
  {
   "cell_type": "code",
   "execution_count": 27,
   "outputs": [],
   "source": [
    "def generate_converted_rule(rule, neighborhood_members, num_states) -> List[int]:\n",
    "    \"\"\"Convert rule number to binary, ternary, etc, rule number\"\"\"\n",
    "    # example: if rule=11 --> converted_rule=[1, 0, 1, 1]\n",
    "    converted_rule_list: list[int] = number_to_base(rule, num_states)\n",
    "    # [1, 0, 1, 1] --> [1, 1, 0, 1]\n",
    "    converted_rule_list = converted_rule_list[::-1]\n",
    "\n",
    "    # if max_rule=255 = [1, 1, 1, 1, 1, 1, 1, 1], num_digits=8\n",
    "    num_digits = len(generate_neighborhoods(neighborhood_members, num_states))\n",
    "\n",
    "    # pad end with zeroes\n",
    "    # if rule=11, converted_rule_list=[1,1,0,1] --> [1,1,0,1,0,0,0,0]\n",
    "    zeroes_to_add = [0] * (num_digits - len(converted_rule_list))\n",
    "    converted_rule_list = converted_rule_list + zeroes_to_add\n",
    "    assert len(converted_rule_list) == num_digits\n",
    "\n",
    "    return converted_rule_list"
   ],
   "metadata": {
    "collapsed": false,
    "pycharm": {
     "name": "#%%\n"
    }
   }
  },
  {
   "cell_type": "code",
   "execution_count": 28,
   "outputs": [],
   "source": [
    "def propagate_spacetime_field(rows: list[list[int]],\n",
    "                              lookup_table: dict[tuple[int]: int]) -> list[list[int]]:\n",
    "    \"\"\"\n",
    "    Propagates a spacetime field array from an initial array of rows.\n",
    "    :param rows: An array of rows, probably all set to zeroes\n",
    "    :param lookup_table: Dictionary linking neighborhoods to propagation rules\n",
    "    :return: [list[list[int]]: Propagated rows variable\n",
    "    \"\"\"\n",
    "    length = len(rows[0])\n",
    "    for row_number, row in enumerate(rows):\n",
    "        current_row = row.copy()\n",
    "        new_row = [0]*length\n",
    "        for column, _ in enumerate(row):\n",
    "            neighborhood = (current_row[column-1], current_row[column])\n",
    "            new_row[column] = lookup_table[neighborhood]\n",
    "        try:\n",
    "            rows[row_number+1] = new_row\n",
    "        except IndexError:\n",
    "            break  # stop propagating\n",
    "    return rows"
   ],
   "metadata": {
    "collapsed": false,
    "pycharm": {
     "name": "#%%\n"
    }
   }
  },
  {
   "cell_type": "markdown",
   "source": [
    "# Version with just all one main function\n",
    "(Technically I use some functions inside this one, but I've been coding too long to use really only one function, that would be a nightmare. I made sure not to use any classes. Since I made my code general for any kind of spacetime diagram, that would be a crazy long function)"
   ],
   "metadata": {
    "collapsed": false
   }
  },
  {
   "cell_type": "code",
   "execution_count": 29,
   "outputs": [
    {
     "name": "stdout",
     "output_type": "stream",
     "text": [
      "Initial conditions: rule=1500, length=10, time=10\n",
      "neighborhood_members=2, num_states=3\n",
      "initial_condition=[1, 1, 0, 1, 1, 1, 0, 2, 2, 0]\n",
      "neighborhoods=[(0, 0), (0, 1), (0, 2), (1, 0), (1, 1), (1, 2), (2, 0), (2, 1), (2, 2)]\n",
      "converted_rule=[0, 2, 1, 1, 0, 0, 2, 0, 0]\n",
      "lookup_table={(0, 0): 0, (0, 1): 2, (0, 2): 1, (1, 0): 1, (1, 1): 0, (1, 2): 0, (2, 0): 2, (2, 1): 0, (2, 2): 0}\n"
     ]
    },
    {
     "data": {
      "text/plain": "<Figure size 720x720 with 1 Axes>",
      "image/png": "[encoded data removed]"
     },
     "metadata": {
      "needs_background": "light"
     },
     "output_type": "display_data"
    }
   ],
   "source": [
    "def main(rule: int,\n",
    "         length: int,\n",
    "         time: int,\n",
    "         neighborhood_members: int,\n",
    "         num_states: int):\n",
    "    max_rule = get_max_rule(neighborhood_members, num_states)\n",
    "    if not (0 <= rule <= max_rule):\n",
    "        raise ValueError(f\"Please choose a value for rule between 0 and {max_rule}\")\n",
    "    if length < 0:\n",
    "        raise ValueError(\"Please choose a value for length greater than 0\")\n",
    "    if time < 0:\n",
    "        raise ValueError(\"Please choose a value for time greater than 0\")\n",
    "\n",
    "    # make the initial condition\n",
    "    initial_condition: list[int] = []\n",
    "    for i in range(length):\n",
    "        initial_condition.append(random.randrange(0, num_states, 1))\n",
    "\n",
    "\n",
    "    # gives list of tuples like [(0,0,0), (0,0,1), ...]\n",
    "    neighborhoods: list[tuple[int]] = generate_neighborhoods(neighborhood_members,\n",
    "                                                        num_states)\n",
    "\n",
    "    # a list of the rule converted into base-num_states\n",
    "    converted_rule: list[int] = generate_converted_rule(rule, neighborhood_members, num_states)\n",
    "\n",
    "    # a dictionary matching a neighborhood to a propagation rule\n",
    "    lookup_table = dict(zip(neighborhoods, converted_rule))\n",
    "\n",
    "    print(f\"Initial conditions: {rule=}, {length=}, {time=}\\n\"\n",
    "          f\"{neighborhood_members=}, {num_states=}\")\n",
    "    print(f\"{initial_condition=}\")\n",
    "    print(f\"{neighborhoods=}\")\n",
    "    print(f\"{converted_rule=}\")\n",
    "    print(f\"{lookup_table=}\")\n",
    "\n",
    "    # ######### Start propagation of numbers #########\n",
    "\n",
    "    rows: list[list[int]] = [[0]*length]*time  # initiate array of size length x time\n",
    "    rows[0] = initial_condition\n",
    "    rows = propagate_spacetime_field(rows, lookup_table)\n",
    "\n",
    "    # plot the spacetime field diagram\n",
    "    plt.figure(figsize=(length, time))\n",
    "    plt.imshow(rows, cmap=plt.cm.Greys, interpolation='nearest')\n",
    "    plt.show()\n",
    "\n",
    "main(1500, 10, 10, 2, 3)"
   ],
   "metadata": {
    "collapsed": false,
    "pycharm": {
     "name": "#%%\n"
    }
   }
  },
  {
   "cell_type": "markdown",
   "source": [
    "# Version using classes"
   ],
   "metadata": {
    "collapsed": false,
    "pycharm": {
     "name": "#%% md\n"
    }
   }
  },
  {
   "cell_type": "code",
   "execution_count": 41,
   "outputs": [
    {
     "name": "stdout",
     "output_type": "stream",
     "text": [
      "Initial conditions: rule=2000, length=20, time=20\n",
      "neighborhood_members=2, num_states=3\n",
      "self.initial_condition=[1, 2, 1, 0, 0, 0, 2, 2, 0, 1, 0, 2, 2, 1, 2, 2, 1, 2, 1, 2]\n",
      "neighborhoods=[(0, 0), (0, 1), (0, 2), (1, 0), (1, 1), (1, 2), (2, 0), (2, 1), (2, 2)]\n",
      "converted_rule=[2, 0, 0, 2, 0, 2, 2, 0, 0]\n",
      "lookup_table={(0, 0): 2, (0, 1): 0, (0, 2): 0, (1, 0): 2, (1, 1): 0, (1, 2): 2, (2, 0): 2, (2, 1): 0, (2, 2): 0}\n"
     ]
    },
    {
     "data": {
      "text/plain": "<Figure size 1440x1440 with 1 Axes>",
      "image/png": "[encoded data removed]"
     },
     "metadata": {
      "needs_background": "light"
     },
     "output_type": "display_data"
    },
    {
     "name": "stdout",
     "output_type": "stream",
     "text": [
      "Initial conditions: rule=12345, length=20, time=20\n",
      "neighborhood_members=2, num_states=3\n",
      "self.initial_condition=[1, 2, 0, 1, 2, 1, 2, 1, 1, 0, 1, 1, 1, 1, 0, 2, 0, 1, 2, 0]\n",
      "neighborhoods=[(0, 0), (0, 1), (0, 2), (1, 0), (1, 1), (1, 2), (2, 0), (2, 1), (2, 2)]\n",
      "converted_rule=[0, 2, 0, 1, 2, 2, 1, 2, 1]\n",
      "lookup_table={(0, 0): 0, (0, 1): 2, (0, 2): 0, (1, 0): 1, (1, 1): 2, (1, 2): 2, (2, 0): 1, (2, 1): 2, (2, 2): 1}\n"
     ]
    },
    {
     "data": {
      "text/plain": "<Figure size 1440x1440 with 1 Axes>",
      "image/png": "[encoded data removed]"
     },
     "metadata": {
      "needs_background": "light"
     },
     "output_type": "display_data"
    },
    {
     "name": "stdout",
     "output_type": "stream",
     "text": [
      "Initial conditions: rule=123456783234123456712312, length=20, time=20\n",
      "neighborhood_members=2, num_states=8\n",
      "self.initial_condition=[2, 6, 3, 6, 3, 0, 0, 0, 0, 6, 0, 0, 7, 3, 0, 3, 2, 6, 5, 7]\n",
      "neighborhoods=[(0, 0), (0, 1), (0, 2), (0, 3), (0, 4), (0, 5), (0, 6), (0, 7), (1, 0), (1, 1), (1, 2), (1, 3), (1, 4), (1, 5), (1, 6), (1, 7), (2, 0), (2, 1), (2, 2), (2, 3), (2, 4), (2, 5), (2, 6), (2, 7), (3, 0), (3, 1), (3, 2), (3, 3), (3, 4), (3, 5), (3, 6), (3, 7), (4, 0), (4, 1), (4, 2), (4, 3), (4, 4), (4, 5), (4, 6), (4, 7), (5, 0), (5, 1), (5, 2), (5, 3), (5, 4), (5, 5), (5, 6), (5, 7), (6, 0), (6, 1), (6, 2), (6, 3), (6, 4), (6, 5), (6, 6), (6, 7), (7, 0), (7, 1), (7, 2), (7, 3), (7, 4), (7, 5), (7, 6), (7, 7)]\n",
      "converted_rule=[0, 7, 1, 7, 0, 4, 6, 4, 1, 7, 4, 6, 5, 2, 2, 4, 2, 1, 4, 5, 1, 1, 1, 1, 2, 3, 0, 0, 0, 0, 0, 0, 0, 0, 0, 0, 0, 0, 0, 0, 0, 0, 0, 0, 0, 0, 0, 0, 0, 0, 0, 0, 0, 0, 0, 0, 0, 0, 0, 0, 0, 0, 0, 0]\n",
      "lookup_table={(0, 0): 0, (0, 1): 7, (0, 2): 1, (0, 3): 7, (0, 4): 0, (0, 5): 4, (0, 6): 6, (0, 7): 4, (1, 0): 1, (1, 1): 7, (1, 2): 4, (1, 3): 6, (1, 4): 5, (1, 5): 2, (1, 6): 2, (1, 7): 4, (2, 0): 2, (2, 1): 1, (2, 2): 4, (2, 3): 5, (2, 4): 1, (2, 5): 1, (2, 6): 1, (2, 7): 1, (3, 0): 2, (3, 1): 3, (3, 2): 0, (3, 3): 0, (3, 4): 0, (3, 5): 0, (3, 6): 0, (3, 7): 0, (4, 0): 0, (4, 1): 0, (4, 2): 0, (4, 3): 0, (4, 4): 0, (4, 5): 0, (4, 6): 0, (4, 7): 0, (5, 0): 0, (5, 1): 0, (5, 2): 0, (5, 3): 0, (5, 4): 0, (5, 5): 0, (5, 6): 0, (5, 7): 0, (6, 0): 0, (6, 1): 0, (6, 2): 0, (6, 3): 0, (6, 4): 0, (6, 5): 0, (6, 6): 0, (6, 7): 0, (7, 0): 0, (7, 1): 0, (7, 2): 0, (7, 3): 0, (7, 4): 0, (7, 5): 0, (7, 6): 0, (7, 7): 0}\n"
     ]
    },
    {
     "data": {
      "text/plain": "<Figure size 1440x1440 with 1 Axes>",
      "image/png": "[encoded data removed]"
     },
     "metadata": {
      "needs_background": "light"
     },
     "output_type": "display_data"
    }
   ],
   "source": [
    "class ECA(object):\n",
    "    def __init__(self,\n",
    "                 rule: int,\n",
    "                 length: int,\n",
    "                 time: int,\n",
    "                 neighborhood_members: int,\n",
    "                 num_states: int):\n",
    "        \"\"\"\n",
    "        A class that creates and propagates a spacetime diagram of size length x time based on a rule\n",
    "        :param rule: Should be an integer\n",
    "        :param length:\n",
    "        :param time:\n",
    "        :param neighborhood_members:\n",
    "        :param num_states:\n",
    "        \"\"\"\n",
    "        max_rule = get_max_rule(neighborhood_members, num_states)\n",
    "        if not (0 <= rule <= max_rule):\n",
    "            raise ValueError(f\"Please choose a value for rule between 0 and {max_rule}\")\n",
    "        if length < 0:\n",
    "            raise ValueError(\"Please choose a value for length greater than 0\")\n",
    "        if time < 0:\n",
    "            raise ValueError(\"Please choose a value for time greater than 0\")\n",
    "\n",
    "        self.length = length\n",
    "        self.time = time\n",
    "\n",
    "        # make the initial condition\n",
    "        self.initial_condition: list[int] = [0]*length\n",
    "        for i in range(length):\n",
    "            self.initial_condition[i] = random.randrange(0, num_states, 1)\n",
    "\n",
    "\n",
    "        # gives list of tuples like [(0,0,0), (0,0,1), ...]\n",
    "        neighborhoods: list[tuple[int]] = generate_neighborhoods(neighborhood_members,num_states)\n",
    "\n",
    "        # a list of the rule converted into base-num_states\n",
    "        converted_rule: list[int] = generate_converted_rule(rule, neighborhood_members, num_states)\n",
    "\n",
    "        # a dictionary matching a neighborhood to a propagation rule\n",
    "        lookup_table = dict(zip(neighborhoods, converted_rule))\n",
    "\n",
    "\n",
    "        print(f\"Initial conditions: {rule=}, {length=}, {time=}\\n\"\n",
    "              f\"{neighborhood_members=}, {num_states=}\")\n",
    "        print(f\"{self.initial_condition=}\")\n",
    "        print(f\"{neighborhoods=}\")\n",
    "        print(f\"{converted_rule=}\")\n",
    "        print(f\"{lookup_table=}\")\n",
    "\n",
    "        # ######### Start propagation of numbers #########\n",
    "\n",
    "        self.rows = [[0]*length]*time  # initiate array of size length x time\n",
    "        self.rows[0] = self.initial_condition\n",
    "        self.rows = propagate_spacetime_field(self.rows, lookup_table)\n",
    "\n",
    "    def show(self, cmap=plt.cm.Greys, interpolation='nearest'):\n",
    "        \"\"\"\n",
    "        Shows the spacetime diagram\n",
    "        :return:\n",
    "        \"\"\"\n",
    "        plt.figure(figsize=(self.length, self.time))\n",
    "        plt.imshow(self.rows, cmap=cmap, interpolation=interpolation)\n",
    "        plt.show()\n",
    "\n",
    "ECA(2000, 20, 20, 2, 3).show()\n",
    "ECA(12345, 20, 20, 2, 3).show()\n",
    "ECA(123456783234123456712312, 20, 20, 2, 8).show()"
   ],
   "metadata": {
    "collapsed": false,
    "pycharm": {
     "name": "#%%\n"
    }
   }
  },
  {
   "cell_type": "markdown",
   "source": [
    "#\n",
    "#\n",
    "# **Tests**"
   ],
   "metadata": {
    "collapsed": false,
    "pycharm": {
     "name": "#%% md\n"
    }
   }
  },
  {
   "cell_type": "code",
   "execution_count": 31,
   "outputs": [],
   "source": [
    "def number_to_base_tests():\n",
    "    assert number_to_base(15, 10) == [1, 5]\n",
    "    assert number_to_base(5, 2) == [1, 0, 1]\n",
    "    assert number_to_base(27, 6) == [4, 3]\n",
    "    assert number_to_base(27, 3) == [1, 0, 0, 0]\n",
    "    print(\"number_to_base_tests passed\")"
   ],
   "metadata": {
    "collapsed": false,
    "pycharm": {
     "name": "#%%\n"
    }
   }
  },
  {
   "cell_type": "code",
   "execution_count": 32,
   "outputs": [
    {
     "name": "stdout",
     "output_type": "stream",
     "text": [
      "number_to_base_tests passed\n"
     ]
    }
   ],
   "source": [
    "number_to_base_tests()"
   ],
   "metadata": {
    "collapsed": false,
    "pycharm": {
     "name": "#%%\n"
    }
   }
  },
  {
   "cell_type": "code",
   "execution_count": 33,
   "outputs": [],
   "source": [
    "def generate_neighborhoods_tests():\n",
    "    assert type(generate_neighborhoods(3, 2)) == list, \"function generate_neighborhood() is not returning lists\"\n",
    "    try:\n",
    "        assert type(generate_neighborhoods(3, 2)[0]) == tuple, \"the elements of function generate_neighborhood() are not all tuples\"\n",
    "    except IndexError:\n",
    "        raise IndexError(\"The list returned from function generate_neighborhoods() is empty\")\n",
    "    assert generate_neighborhoods(3, 2) == [(0,0,0), (0,0,1), (0,1,0), (0,1,1), (1,0,0), (1,0,1), (1,1,0), (1,1,1)], \"The tuples generated by function generate_neighborhoods(3, 2) is not correct\"\n",
    "    assert generate_neighborhoods(4, 2) == [(0,0,0,0), (0,0,0,1), (0,0,1,0), (0,0,1,1), (0,1,0,0), (0,1,0,1), (0,1,1,0), (0,1,1,1), (1,0,0,0), (1,0,0,1), (1,0,1,0), (1,0,1,1), (1,1,0,0), (1,1,0,1), (1,1,1,0), (1,1,1,1)], \"The tuples generated by function generate_neighborhoods(4, 2) is not correct\"\n",
    "    assert generate_neighborhoods(2, 3) == [(0,0), (0,1), (0,2), (1,0), (1,1), (1,2), (2,0), (2,1), (2,2)], \"The tuples generated by function generate_neighborhoods(2, 3) is not correct\"\n",
    "    print(\"generate_neighborhoods_tests passed\")"
   ],
   "metadata": {
    "collapsed": false,
    "pycharm": {
     "name": "#%%\n"
    }
   }
  },
  {
   "cell_type": "code",
   "execution_count": 34,
   "outputs": [
    {
     "name": "stdout",
     "output_type": "stream",
     "text": [
      "generate_neighborhoods_tests passed\n"
     ]
    }
   ],
   "source": [
    "generate_neighborhoods_tests()"
   ],
   "metadata": {
    "collapsed": false,
    "pycharm": {
     "name": "#%%\n"
    }
   }
  },
  {
   "cell_type": "code",
   "execution_count": 35,
   "outputs": [],
   "source": [
    "def get_max_rule_tests():\n",
    "    assert get_max_rule(3, 2) == 255\n",
    "    assert get_max_rule(4, 2) == 65535\n",
    "    assert get_max_rule(2, 3) == 19682\n",
    "    print(\"get_max_rule_tests passed\")"
   ],
   "metadata": {
    "collapsed": false,
    "pycharm": {
     "name": "#%%\n"
    }
   }
  },
  {
   "cell_type": "code",
   "execution_count": 36,
   "outputs": [
    {
     "name": "stdout",
     "output_type": "stream",
     "text": [
      "get_max_rule_tests passed\n"
     ]
    }
   ],
   "source": [
    "get_max_rule_tests()"
   ],
   "metadata": {
    "collapsed": false,
    "pycharm": {
     "name": "#%%\n"
    }
   }
  },
  {
   "cell_type": "code",
   "execution_count": 37,
   "outputs": [],
   "source": [
    "def get_starting_state_tests():\n",
    "    result = get_starting_state(20, 2)\n",
    "    assert type(result) == list\n",
    "    assert len(result) == 20\n",
    "    assert max(result) in [0, 1]\n",
    "    result = get_starting_state(20, 5)\n",
    "    assert max(result) in [0, 1, 2, 3, 4]\n",
    "    print(\"get_starting_state_tests passed\")"
   ],
   "metadata": {
    "collapsed": false,
    "pycharm": {
     "name": "#%%\n"
    }
   }
  },
  {
   "cell_type": "code",
   "execution_count": 38,
   "outputs": [
    {
     "name": "stdout",
     "output_type": "stream",
     "text": [
      "get_starting_state_tests passed\n"
     ]
    }
   ],
   "source": [
    "get_starting_state_tests()"
   ],
   "metadata": {
    "collapsed": false,
    "pycharm": {
     "name": "#%%\n"
    }
   }
  },
  {
   "cell_type": "code",
   "execution_count": 39,
   "outputs": [],
   "source": [
    "def generate_converted_rule_tests():\n",
    "    assert generate_converted_rule(0, 3, 2) == [0,0,0,0,0,0,0,0]\n",
    "    assert generate_converted_rule(25, 3, 2) == [1,0,0,1,1,0,0,0], generate_converted_rule(25, 3, 2)\n",
    "    assert generate_converted_rule(250, 3, 2) == [0,1,0,1,1,1,1,1]\n",
    "    assert generate_converted_rule(50, 2, 3) == [2,1,2,1,0,0,0,0,0],generate_converted_rule(50, 2, 3)\n",
    "    assert generate_converted_rule(19000, 2, 3) == [1,0,2,1,0,0,2,2,2]\n",
    "    print(\"generate_converted_rule_tests passed\")"
   ],
   "metadata": {
    "collapsed": false,
    "pycharm": {
     "name": "#%%\n"
    }
   }
  },
  {
   "cell_type": "code",
   "execution_count": 40,
   "outputs": [
    {
     "name": "stdout",
     "output_type": "stream",
     "text": [
      "generate_converted_rule_tests passed\n"
     ]
    }
   ],
   "source": [
    "generate_converted_rule_tests()"
   ],
   "metadata": {
    "collapsed": false,
    "pycharm": {
     "name": "#%%\n"
    }
   }
  }
 ],
 "metadata": {
  "kernelspec": {
   "display_name": "Python 3",
   "language": "python",
   "name": "python3"
  },
  "language_info": {
   "codemirror_mode": {
    "name": "ipython",
    "version": 2
   },
   "file_extension": ".py",
   "mimetype": "text/x-python",
   "name": "python",
   "nbconvert_exporter": "python",
   "pygments_lexer": "ipython2",
   "version": "2.7.6"
  }
 },
 "nbformat": 4,
 "nbformat_minor": 0
}